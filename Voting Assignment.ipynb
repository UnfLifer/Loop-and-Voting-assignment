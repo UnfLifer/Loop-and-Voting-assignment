{
 "cells": [
  {
   "cell_type": "code",
   "execution_count": 76,
   "id": "ac229376-e07a-4ca4-b640-7cf747819b8e",
   "metadata": {},
   "outputs": [],
   "source": [
    "class voting_instructor:\n",
    "    def __init__(self):\n",
    "        self.cand=[]\n",
    "        self.num= {}\n",
    "    def add_candidate(self, new):\n",
    "        if( new in self.cand):\n",
    "            print(f\"Candidate {new} is already added!\")\n",
    "        else:\n",
    "            self.cand.append(new)\n",
    "            self.num[new] = 0\n",
    "  \n",
    "    def show_candidates(self):\n",
    "        print(self.cand)\n",
    "\n",
    "    def vote_for_candidate(self, name):\n",
    "        if(name in self.cand):\n",
    "            self.num[name] += 1\n",
    "        else:\n",
    "            print(f\"Candidate {name} is not on the list\")\n",
    "\n",
    "    def get_result_of_candidate(self, name2):\n",
    "        if(name2 in self.cand):\n",
    "            print(f\"Number of votes for {name2} are: {self.num[name2]}\" )\n",
    "        else:\n",
    "            print(\"No such candidate!\")\n",
    "\n",
    "    def display_winner(self):\n",
    "        max_votes= max(self.num.values())\n",
    "        winner = [name for name, votes in self.num.items() if votes == max_votes]\n",
    "        print(f\"The winner is {winner}.\")"
   ]
  },
  {
   "cell_type": "code",
   "execution_count": 78,
   "id": "90b15e97-765e-4f00-8237-402d934f4cc0",
   "metadata": {},
   "outputs": [
    {
     "name": "stdout",
     "output_type": "stream",
     "text": [
      "['Baraa', 'Sama', 'Saif']\n",
      "Candidate ssss is not on the list\n",
      "Number of votes for Baraa are: 3\n",
      "Number of votes for Sama are: 2\n",
      "No such candidate!\n",
      "The winner is ['Baraa'].\n"
     ]
    }
   ],
   "source": [
    "voting= voting_instructor()\n",
    "voting.add_candidate(\"Baraa\")\n",
    "voting.add_candidate(\"Sama\")\n",
    "voting.add_candidate(\"Saif\")\n",
    "voting.show_candidates()\n",
    "voting.vote_for_candidate(\"ssss\")\n",
    "voting.vote_for_candidate(\"Baraa\")\n",
    "voting.vote_for_candidate(\"Baraa\")\n",
    "voting.vote_for_candidate(\"Baraa\")\n",
    "voting.vote_for_candidate(\"Sama\")\n",
    "voting.vote_for_candidate(\"Sama\")\n",
    "voting.get_result_of_candidate(\"Baraa\")\n",
    "voting.get_result_of_candidate(\"Sama\")\n",
    "voting.get_result_of_candidate(\"sss\")\n",
    "voting.display_winner()"
   ]
  },
  {
   "cell_type": "code",
   "execution_count": 7,
   "id": "498c91b8-1ef1-484b-b1fd-4aa4d050b525",
   "metadata": {},
   "outputs": [
    {
     "data": {
      "text/plain": [
       "-1"
      ]
     },
     "execution_count": 7,
     "metadata": {},
     "output_type": "execute_result"
    }
   ],
   "source": [
    "# Task 2 calculator B.\n",
    "\n",
    "class calculator:\n",
    "    def __init__(self,n1 ,n2):\n",
    "        self.n1 = n1\n",
    "        self.n2 = n2\n",
    "    def sum(self):\n",
    "        return(self.n1 + self.n2)\n",
    "        \n",
    "    def diff(self):\n",
    "       return(self.n1-self.n2)\n",
    "\n",
    "    def mult(self):\n",
    "        return(self.n1 * self.n2)\n",
    "\n",
    "    def div(self):\n",
    "        return(self.n1/self.n2)\n",
    "\n",
    "c1 = calculator(3,4)\n",
    "c1.diff()"
   ]
  }
 ],
 "metadata": {
  "kernelspec": {
   "display_name": "Python 3 (ipykernel)",
   "language": "python",
   "name": "python3"
  },
  "language_info": {
   "codemirror_mode": {
    "name": "ipython",
    "version": 3
   },
   "file_extension": ".py",
   "mimetype": "text/x-python",
   "name": "python",
   "nbconvert_exporter": "python",
   "pygments_lexer": "ipython3",
   "version": "3.11.7"
  }
 },
 "nbformat": 4,
 "nbformat_minor": 5
}
