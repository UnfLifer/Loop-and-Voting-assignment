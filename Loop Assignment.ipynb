{
 "cells": [
  {
   "cell_type": "markdown",
   "id": "1f7a7136-2b6f-44ab-8446-2fb9cd86fd48",
   "metadata": {
    "id": "1f7a7136-2b6f-44ab-8446-2fb9cd86fd48"
   },
   "source": [
    "### Exercises ➞ <span class='label label-default'>Level 3</span>\n",
    "##### To access countries_details_data.py file\n",
    "##### > in first line in code write:\n",
    "##### > from countries import countries\n",
    "##### > from countries_details_dat import countries_data\n",
    "\n",
    "1. Go to the data folder and use the **[countries.py]()** file. Loop through the countries and extract all the countries containing the word **`land`**.\n",
    "2. Go to the data folder and use the **[countries_details_data.py]()** file.\n",
    "   1. What are the total number of languages in the data \\\\ 112\n",
    "   2. Find the ten most spoken languages from the data \\\\ English , French , Arabic\n",
    "   3. Find the 10 most populated countries in the world \\\\ China, India, US\n",
    "  \n",
    "3. Print the following pattern using loops (bones)\n",
    "\n",
    "```py\n",
    "   0 x 0 = 0\n",
    "   1 x 1 = 1\n",
    "   2 x 2 = 4\n",
    "   3 x 3 = 9\n",
    "   4 x 4 = 16\n",
    "   5 x 5 = 25\n",
    "   6 x 6 = 36\n",
    "   7 x 7 = 49\n",
    "   8 x 8 = 64\n",
    "   9 x 9 = 81\n",
    "   10 x 10 = 100\n",
    "```"
   ]
  },
  {
   "cell_type": "code",
   "execution_count": 58,
   "id": "1d184043-72e0-4db3-9ed6-fe9e28339c95",
   "metadata": {},
   "outputs": [],
   "source": [
    "from countries import countries\n",
    "from countries_details_dat import countries_data"
   ]
  },
  {
   "cell_type": "code",
   "execution_count": 64,
   "id": "cbf00435-8c62-405b-89e0-d5b7377781af",
   "metadata": {
    "id": "cbf00435-8c62-405b-89e0-d5b7377781af"
   },
   "outputs": [
    {
     "data": {
      "text/plain": [
       "['Finland',\n",
       " 'Iceland',\n",
       " 'Ireland',\n",
       " 'Marshall Islands',\n",
       " 'Netherlands',\n",
       " 'New Zealand',\n",
       " 'Poland',\n",
       " 'Solomon Islands',\n",
       " 'Swaziland',\n",
       " 'Switzerland',\n",
       " 'Thailand']"
      ]
     },
     "execution_count": 64,
     "metadata": {},
     "output_type": "execute_result"
    }
   ],
   "source": [
    "#Question 1\n",
    "\n",
    "land_found=[]\n",
    "for i in countries:\n",
    "    if('land' in i): land_found.append(i)\n",
    "land_found"
   ]
  },
  {
   "cell_type": "code",
   "execution_count": 70,
   "id": "bc55b739-44bc-4b8c-bd61-42b5bb9b74e9",
   "metadata": {
    "id": "bc55b739-44bc-4b8c-bd61-42b5bb9b74e9",
    "outputId": "7458f5c3-9746-427a-ec9c-16ee4cae8936"
   },
   "outputs": [
    {
     "data": {
      "text/plain": [
       "112"
      ]
     },
     "execution_count": 70,
     "metadata": {},
     "output_type": "execute_result"
    }
   ],
   "source": [
    "#Question 2 - A.\n",
    "\n",
    "found=[]\n",
    "for i in countries_data:\n",
    "    for lang in i['languages']:\n",
    "        if(lang not in found):\n",
    "            found.append(lang)\n",
    "\n",
    "len(found)"
   ]
  },
  {
   "cell_type": "code",
   "execution_count": 72,
   "id": "18c31c85-2f53-4cb7-a41b-ee09c151287a",
   "metadata": {},
   "outputs": [
    {
     "data": {
      "text/plain": [
       "112"
      ]
     },
     "execution_count": 72,
     "metadata": {},
     "output_type": "execute_result"
    }
   ],
   "source": [
    "#Question 2 - A. (diff sol.)\n",
    "\n",
    "found = set()\n",
    "for i in countries_data:\n",
    "    for lang in i['languages']:\n",
    "        found.add(lang)\n",
    "len(found)       "
   ]
  },
  {
   "cell_type": "code",
   "execution_count": 162,
   "id": "e39e3143-5b1e-4c5d-bca0-4a7207c7dbe0",
   "metadata": {},
   "outputs": [
    {
     "data": {
      "text/plain": [
       "['English',\n",
       " 'French',\n",
       " 'Arabic',\n",
       " 'Spanish',\n",
       " 'Portuguese',\n",
       " 'Portuguese',\n",
       " 'Dutch',\n",
       " 'German',\n",
       " 'Chinese',\n",
       " 'Serbian']"
      ]
     },
     "execution_count": 162,
     "metadata": {},
     "output_type": "execute_result"
    }
   ],
   "source": [
    "#Question 2 - B.\n",
    "most={}\n",
    "for i in countries_data:\n",
    "    for lang in i['languages']:\n",
    "        if lang in most.keys():\n",
    "            most[lang]+=1\n",
    "        else: most[lang]=1\n",
    "top = most.values()\n",
    "temp = list(top)\n",
    "temp.sort(reverse=True)\n",
    "ten=[]\n",
    "for val in x[0:10]:\n",
    "    for name in most.keys():\n",
    "        if most[name]==val:\n",
    "            ten.append(name)\n",
    "            break\n",
    "ten"
   ]
  },
  {
   "cell_type": "code",
   "execution_count": 136,
   "id": "9fd55400-ba6b-49a1-b4f0-8dff9b2f3899",
   "metadata": {},
   "outputs": [
    {
     "data": {
      "text/plain": [
       "['China',\n",
       " 'India',\n",
       " 'United States of America',\n",
       " 'Indonesia',\n",
       " 'Brazil',\n",
       " 'Pakistan',\n",
       " 'Nigeria',\n",
       " 'Bangladesh',\n",
       " 'Russian Federation',\n",
       " 'Japan']"
      ]
     },
     "execution_count": 136,
     "metadata": {},
     "output_type": "execute_result"
    }
   ],
   "source": [
    "#Question 2 - C.\n",
    "\n",
    "x = []\n",
    "for i in countries_data:\n",
    "    x.append(i['population'])\n",
    "\n",
    "x.sort(reverse=True)\n",
    "y=[]\n",
    "for val in x[0:10]:\n",
    "    for i in countries_data:\n",
    "        if i['population']==val:\n",
    "            y.append(i['name'])\n",
    "            break\n",
    "y"
   ]
  },
  {
   "cell_type": "code",
   "execution_count": 146,
   "id": "6add33ca-29f2-4df9-bce1-e25880c3986c",
   "metadata": {
    "id": "6add33ca-29f2-4df9-bce1-e25880c3986c"
   },
   "outputs": [
    {
     "name": "stdout",
     "output_type": "stream",
     "text": [
      "0 x 0 =  0\n",
      "1 x 1 =  1\n",
      "2 x 2 =  4\n",
      "3 x 3 =  9\n",
      "4 x 4 =  16\n",
      "5 x 5 =  25\n",
      "6 x 6 =  36\n",
      "7 x 7 =  49\n",
      "8 x 8 =  64\n",
      "9 x 9 =  81\n",
      "10 x 10 =  100\n"
     ]
    }
   ],
   "source": [
    "#Question 3\n",
    "\n",
    "for i in range(0,11):\n",
    "    print(f'{i} x {i} = ', i*i)"
   ]
  },
  {
   "cell_type": "code",
   "execution_count": null,
   "id": "16b7341c-c2b7-45b8-9ad0-407f8f28c382",
   "metadata": {},
   "outputs": [],
   "source": []
  }
 ],
 "metadata": {
  "colab": {
   "provenance": []
  },
  "kernelspec": {
   "display_name": "Python 3 (ipykernel)",
   "language": "python",
   "name": "python3"
  },
  "language_info": {
   "codemirror_mode": {
    "name": "ipython",
    "version": 3
   },
   "file_extension": ".py",
   "mimetype": "text/x-python",
   "name": "python",
   "nbconvert_exporter": "python",
   "pygments_lexer": "ipython3",
   "version": "3.11.7"
  }
 },
 "nbformat": 4,
 "nbformat_minor": 5
}
